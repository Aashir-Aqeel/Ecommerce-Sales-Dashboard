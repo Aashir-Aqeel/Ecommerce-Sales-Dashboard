{
  "nbformat": 4,
  "nbformat_minor": 0,
  "metadata": {
    "colab": {
      "provenance": []
    },
    "kernelspec": {
      "name": "python3",
      "display_name": "Python 3"
    },
    "language_info": {
      "name": "python"
    }
  },
  "cells": [
    {
      "cell_type": "markdown",
      "source": [
        "# Install Dependencies"
      ],
      "metadata": {
        "id": "rgh0Fymhkxc7"
      }
    },
    {
      "cell_type": "code",
      "execution_count": null,
      "metadata": {
        "id": "ZNV7KD7qkfNh"
      },
      "outputs": [],
      "source": [
        "import pandas as pd\n",
        "import numpy as np\n",
        "import matplotlib.pyplot as plt\n",
        "plt.rcParams['font.family'] = 'DejaVu Sans'\n",
        "\n",
        "# File load\n",
        "df = pd.read_csv('/content/ecommerce_sales_data.csv', parse_dates=[\"Order Date\", \"Ship Date\"])\n",
        "\n"
      ]
    },
    {
      "cell_type": "markdown",
      "source": [
        "# Basic Data Cleaning & Preprocessing"
      ],
      "metadata": {
        "id": "ABJJkM_AlbmA"
      }
    },
    {
      "cell_type": "code",
      "source": [
        "# drop duplicate rows\n",
        "\n",
        "df = df.drop_duplicates().copy()\n",
        "\n",
        "# make sure numeric dtypes\n",
        "for col in [\"Sales\", \"Quantity\", \"Discount\", \"Profit\"]:\n",
        "    df[col] = pd.to_numeric(df[col], errors=\"coerce\")\n",
        "\n",
        "# remove rows with missing numbers\n",
        "df = df[(df[\"Sales\"] >= 0) & (df[\"Quantity\"] > 0)]\n",
        "\n",
        "# conversion column\n",
        "df[\"OrderMonth\"] = df[\"Order Date\"].dt.to_period(\"M\").dt.to_timestamp()\n",
        "df[\"ProfitMarginPct\"] = np.where(df[\"Sales\"] > 0, (df[\"Profit\"] / df[\"Sales\"]) * 100, np.nan)\n",
        "\n",
        "# KPIs\n",
        "total_sales = df[\"Sales\"].sum()\n",
        "total_profit = df[\"Profit\"].sum()\n",
        "total_orders = df[\"Order ID\"].nunique()\n",
        "avg_order_value = total_sales / total_orders if total_orders else 0\n",
        "overall_margin = (total_profit / total_sales * 100) if total_sales else 0\n",
        "\n",
        "\n",
        "print(\"=== KPIs ===\")\n",
        "print(f\"Total Sales:        {total_sales:,.2f}\")\n",
        "print(f\"Total Profit:       {total_profit:,.2f}\")\n",
        "print(f\"Total Orders:       {total_orders:,}\")\n",
        "print(f\"Avg Order Value:    {avg_order_value:,.2f}\")\n",
        "print(f\"Overall Margin %:   {overall_margin:,.2f}%\")"
      ],
      "metadata": {
        "id": "ny-ms8Hikwp_"
      },
      "execution_count": null,
      "outputs": []
    },
    {
      "cell_type": "markdown",
      "source": [
        "# Line Chart"
      ],
      "metadata": {
        "id": "0yeC1IcpqvL7"
      }
    },
    {
      "cell_type": "code",
      "source": [
        "# group by month\n",
        "monthly_summary = df.groupby(\"OrderMonth\").agg({\n",
        "    \"Sales\": \"sum\",\n",
        "    \"Profit\": \"sum\"\n",
        "}).reset_index()\n",
        "\n",
        "plt.figure(figsize=(12,6))\n",
        "plt.plot(monthly_summary[\"OrderMonth\"], monthly_summary[\"Sales\"], label=\"Sales\", marker=\"o\")\n",
        "plt.plot(monthly_summary[\"OrderMonth\"], monthly_summary[\"Profit\"], label=\"Profit\", marker=\"s\")\n",
        "\n",
        "plt.title(\"Monthly Sales & Profit Trend\")\n",
        "plt.xlabel(\"Month\")\n",
        "plt.ylabel(\"Amount\")\n",
        "plt.legend()\n",
        "plt.grid(True)\n",
        "plt.tight_layout()\n",
        "plt.show()"
      ],
      "metadata": {
        "id": "WWdfAoetpF_Y"
      },
      "execution_count": null,
      "outputs": []
    },
    {
      "cell_type": "markdown",
      "source": [
        "# Bar Chart"
      ],
      "metadata": {
        "id": "zuhcmXh1sCJK"
      }
    },
    {
      "cell_type": "code",
      "source": [
        "# Highest Sales by Category\n",
        "\n",
        "category_sales = df.groupby(\"Category\")[\"Sales\"].sum().sort_values(ascending=False)\n",
        "\n",
        "plt.figure(figsize=(8,6))\n",
        "plt.bar(category_sales.index, category_sales.values, color=[\"#1f77b4\", \"#ff7f0e\", \"#2ca02c\"])\n",
        "plt.title(\"Total Sales by Category\")\n",
        "plt.xlabel(\"Category\")\n",
        "plt.ylabel(\"Sales\")\n",
        "plt.tight_layout()\n",
        "plt.show()\n"
      ],
      "metadata": {
        "id": "lyA2WQItrazG"
      },
      "execution_count": null,
      "outputs": []
    },
    {
      "cell_type": "code",
      "source": [
        "# Highest Sales by cities\n",
        "\n",
        "top_cities = df.groupby(\"City\")[\"Sales\"].sum().sort_values(ascending=False).head(10)\n",
        "\n",
        "plt.figure(figsize=(10,6))\n",
        "plt.barh(top_cities.index, top_cities.values, color=\"skyblue\")\n",
        "plt.title(\"Top 10 Cities by Sales\")\n",
        "plt.xlabel(\"Sales\")\n",
        "plt.ylabel(\"City\")\n",
        "plt.gca().invert_yaxis()  # so the highest is on top\n",
        "plt.tight_layout()\n",
        "plt.show()\n"
      ],
      "metadata": {
        "id": "xTY3yMF8sMxc"
      },
      "execution_count": null,
      "outputs": []
    },
    {
      "cell_type": "markdown",
      "source": [
        "# Histogram"
      ],
      "metadata": {
        "id": "0A16CHtQsjiN"
      }
    },
    {
      "cell_type": "code",
      "source": [
        "# profit margin distribution\n",
        "\n",
        "plt.figure(figsize=(10,6))\n",
        "plt.hist(df[\"ProfitMarginPct\"].dropna(), bins=30, color=\"orange\", edgecolor=\"black\")\n",
        "plt.title(\"Distribution of Profit Margin %\")\n",
        "plt.xlabel(\"Profit Margin %\")\n",
        "plt.ylabel(\"Frequency\")\n",
        "plt.tight_layout()\n",
        "plt.show()"
      ],
      "metadata": {
        "id": "8SquEnI1sej2"
      },
      "execution_count": null,
      "outputs": []
    },
    {
      "cell_type": "markdown",
      "source": [
        "# Scatter Plot"
      ],
      "metadata": {
        "id": "rq9_jb_Psz5K"
      }
    },
    {
      "cell_type": "code",
      "source": [
        "# Sales vs Profit\n",
        "\n",
        "plt.figure(figsize=(10,6))\n",
        "plt.scatter(df[\"Sales\"], df[\"Profit\"], alpha=0.5, color=\"purple\")\n",
        "plt.title(\"Sales vs Profit Scatter Plot\")\n",
        "plt.xlabel(\"Sales\")\n",
        "plt.ylabel(\"Profit\")\n",
        "plt.tight_layout()\n",
        "plt.show()\n"
      ],
      "metadata": {
        "id": "KbiQFK_Xswrl"
      },
      "execution_count": null,
      "outputs": []
    },
    {
      "cell_type": "markdown",
      "source": [
        "# All In One"
      ],
      "metadata": {
        "id": "4TyVVXmuXA2P"
      }
    },
    {
      "cell_type": "code",
      "source": [
        "# create figure and axs grid\n",
        "fig, axes = plt.subplots(2, 2, figsize=(18, 12))\n",
        "\n",
        "# Monthly Trend (Line chart)\n",
        "monthly_trend = df.groupby(\"OrderMonth\")[[\"Sales\", \"Profit\"]].sum()\n",
        "\n",
        "axes[0,0].plot(monthly_trend.index, monthly_trend[\"Sales\"], label=\"Sales\", color=\"blue\", marker=\"o\")\n",
        "axes[0,0].plot(monthly_trend.index, monthly_trend[\"Profit\"], label=\"Profit\", color=\"green\", marker=\"o\")\n",
        "axes[0,0].set_title(\"Monthly Sales vs Profit\")\n",
        "axes[0,0].set_xlabel(\"Month\")\n",
        "axes[0,0].set_ylabel(\"Amount\")\n",
        "axes[0,0].legend();\n",
        "\n",
        "# Sales by Category (Bar chart)\n",
        "category_sales = df.groupby(\"Category\")[\"Sales\"].sum().sort_values(ascending=False)\n",
        "\n",
        "axes[0,1].bar(category_sales.index, category_sales.values, color=[\"#1f77b4\", \"#ff7f0e\", \"#2ca02c\"])\n",
        "axes[0,1].set_title(\"Sales by Category\")\n",
        "axes[0,1].set_xlabel(\"Category\")\n",
        "axes[0,1].set_ylabel(\"Sales\");\n",
        "\n",
        "# Top 10 Cities (Horizontal Bar)\n",
        "top_cities = df.groupby(\"City\")[\"Sales\"].sum().sort_values(ascending=False).head(10)\n",
        "\n",
        "axes[1,0].barh(top_cities.index, top_cities.values, color=\"skyblue\")\n",
        "axes[1,0].invert_yaxis()\n",
        "axes[1,0].set_title(\"Top 10 Cities by Sales\")\n",
        "axes[1,0].set_xlabel(\"Sales\")\n",
        "axes[1,0].set_ylabel(\"City\");\n",
        "\n",
        "# Sales vs Profit (Scatter Plot)\n",
        "axes[1,1].scatter(df[\"Sales\"], df[\"Profit\"], alpha=0.5, color=\"purple\")\n",
        "axes[1,1].set_title(\"Sales vs Profit Scatter Plot\")\n",
        "axes[1,1].set_xlabel(\"Sales\")\n",
        "axes[1,1].set_ylabel(\"Profit\");\n",
        "\n",
        "# Layout Adjustments\n",
        "plt.suptitle(\"E-commerce Sales Dashboard\", fontsize=20, fontweight=\"bold\")\n",
        "# plt.tight_layout(rect=[0, 0, 1, 0.97])  # Leave space for the main title\n",
        "plt.show()\n"
      ],
      "metadata": {
        "id": "TU39hfJpW5tH"
      },
      "execution_count": null,
      "outputs": []
    }
  ]
}